{
 "cells": [
  {
   "cell_type": "code",
   "execution_count": null,
   "id": "88b47dfa",
   "metadata": {},
   "outputs": [],
   "source": [
    "import tabula as tb\n",
    "import pandas as pd\n",
    "import os\n",
    "import re"
   ]
  },
  {
   "cell_type": "code",
   "execution_count": null,
   "id": "e0c5fe50",
   "metadata": {},
   "outputs": [],
   "source": [
    "#reads table from pdf file\n",
    "df = tb.read_pdf(\"../votes/22-Regular/22-Regular_HM008HVOTE.PDF\", pages=1) #address of pdf file"
   ]
  },
  {
   "cell_type": "code",
   "execution_count": null,
   "id": "0fc1d443",
   "metadata": {},
   "outputs": [],
   "source": [
    "df[0]"
   ]
  },
  {
   "cell_type": "code",
   "execution_count": null,
   "id": "9674c944",
   "metadata": {},
   "outputs": [],
   "source": [
    "bool(re.search('HVOTE', 'HB0002HVOTE.pdf'))"
   ]
  },
  {
   "cell_type": "code",
   "execution_count": null,
   "id": "44053d6f",
   "metadata": {},
   "outputs": [],
   "source": [
    "# format table for output\n",
    "cols = ['NAME', 'YES', 'NO', 'ABS', 'EXC', 'REC']\n",
    "dfleft = df[0].iloc[:,:6]\n",
    "dfleft.columns = cols\n",
    "dfright = df[0].iloc[:,6:]\n",
    "dfright.columns = cols\n",
    "fulldf = pd.concat([dfleft, dfright], axis = 0)\n",
    "fulldf.dropna(subset = ['NAME'], inplace = True)\n",
    "fulldf.fillna('')"
   ]
  },
  {
   "cell_type": "code",
   "execution_count": null,
   "id": "fa8e8dbe",
   "metadata": {},
   "outputs": [],
   "source": [
    "def PDFTable2DataFrame(file):\n",
    "    #print(file)\n",
    "    \n",
    "    \n",
    "    if int(file[9:11]) < 21: \n",
    "        house_cols = ['NAME', 'YES', 'NO', 'EXC', 'ABS']\n",
    "        senate_cols = ['NAME', 'YES', 'NO', 'ABS', 'EXC', 'REC']\n",
    "    else:\n",
    "        house_cols = ['NAME', 'YES', 'NO', 'PNV', 'EXC', 'ABS']\n",
    "        senate_cols = ['NAME', 'YES', 'NO', 'ABS', 'EXC', 'REC']\n",
    "    if bool(re.search('SVOTE', file)) | bool(re.search('SCONCUR', file)) :\n",
    "        cols = senate_cols\n",
    "        ncols = len(senate_cols)\n",
    "    elif bool(re.search('HVOTE', file)) | bool(re.search('HCONCUR', file)): \n",
    "        cols = house_cols\n",
    "        ncols = len(house_cols)\n",
    "    else: \n",
    "        return \"\"\n",
    "        \n",
    "    df = tb.read_pdf(file, pages = 1, silent = True)        \n",
    "    dfleft = df[0].iloc[:,:ncols]\n",
    "    dfleft.columns = cols\n",
    "    dfright = df[0].iloc[:,ncols:]\n",
    "    dfright.columns = cols\n",
    "    fulldf = pd.concat([dfleft, dfright], axis = 0)\n",
    "    fulldf.dropna(subset = ['NAME'], inplace = True)\n",
    "    fulldf = fulldf.fillna('')\n",
    "    \n",
    "    return fulldf"
   ]
  },
  {
   "cell_type": "code",
   "execution_count": null,
   "id": "ddd25f8b",
   "metadata": {},
   "outputs": [],
   "source": [
    "sessions = os.listdir('../votes/')\n",
    "#print(vote_files)\n",
    "for session in sessions[4:]:\n",
    "    if not os.path.exists(f'../votes-csvs/{session}'):\n",
    "            os.mkdir(f'../votes-csvs/{session}')\n",
    "    vote_files = os.listdir(f'../votes/{session}')\n",
    "    for file in vote_files:\n",
    "        pdf_path = f'../votes/{session}/{file}'\n",
    "        try:\n",
    "            df = PDFTable2DataFrame(pdf_path)\n",
    "        except:\n",
    "            with open(f'../votes-csvs/failed-pdfs.log\\n', 'a') as f:\n",
    "                f.write(pdf_path) \n",
    "            continue \n",
    "        if not isinstance(df, pd.DataFrame): \n",
    "            with open(f'../votes-csvs/failed-pdfs.log\\n', 'a') as f:\n",
    "                f.write(pdf_path)\n",
    "            continue\n",
    "        file = file[:-4]\n",
    "        print(file)\n",
    "        df.to_csv(f'../votes-csvs/{session}/{file}.csv', index = False)"
   ]
  },
  {
   "cell_type": "code",
   "execution_count": null,
   "id": "cb8cf8e9",
   "metadata": {},
   "outputs": [],
   "source": [
    "file = '16-Special_HB0006HVOTE.PDF'\n",
    "file.find('_')"
   ]
  }
 ],
 "metadata": {
  "kernelspec": {
   "display_name": "Python 3 (ipykernel)",
   "language": "python",
   "name": "python3"
  },
  "language_info": {
   "codemirror_mode": {
    "name": "ipython",
    "version": 3
   },
   "file_extension": ".py",
   "mimetype": "text/x-python",
   "name": "python",
   "nbconvert_exporter": "python",
   "pygments_lexer": "ipython3",
   "version": "3.9.13"
  }
 },
 "nbformat": 4,
 "nbformat_minor": 5
}
