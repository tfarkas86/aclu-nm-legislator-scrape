{
 "cells": [
  {
   "cell_type": "code",
   "execution_count": 1,
   "id": "59995f9e",
   "metadata": {},
   "outputs": [
    {
     "name": "stderr",
     "output_type": "stream",
     "text": [
      "/Users/tim/Dropbox/1_Work/ACLU/aclu-nm-legislator-scrape/env/lib/python3.9/site-packages/geopandas/_compat.py:112: UserWarning: The Shapely GEOS version (3.10.2-CAPI-1.16.0) is incompatible with the GEOS version PyGEOS was compiled with (3.10.1-CAPI-1.16.0). Conversions between both will be slow.\n",
      "  warnings.warn(\n"
     ]
    }
   ],
   "source": [
    "#USE_PYGEOS=1\n",
    "import geopandas as gpd\n",
    "from pathlib import Path\n",
    "import pandas as pd\n",
    "#import pygeos\n",
    "#gpd.options.use_pygeos = True"
   ]
  },
  {
   "cell_type": "markdown",
   "id": "bba5b9aa",
   "metadata": {},
   "source": [
    "## Input Data Shapefiles"
   ]
  },
  {
   "cell_type": "code",
   "execution_count": 5,
   "id": "eeb4ee06",
   "metadata": {},
   "outputs": [],
   "source": [
    "# Senate\n",
    "input_folder = Path(\"../gis/NM_Senate\")\n",
    "fp = input_folder / \"NM_Senate.shp\"\n",
    "sd = gpd.read_file(fp)"
   ]
  },
  {
   "cell_type": "code",
   "execution_count": 6,
   "id": "82e26cba",
   "metadata": {},
   "outputs": [
    {
     "name": "stdout",
     "output_type": "stream",
     "text": [
      "epsg:4269\n"
     ]
    },
    {
     "data": {
      "text/html": [
       "<div>\n",
       "<style scoped>\n",
       "    .dataframe tbody tr th:only-of-type {\n",
       "        vertical-align: middle;\n",
       "    }\n",
       "\n",
       "    .dataframe tbody tr th {\n",
       "        vertical-align: top;\n",
       "    }\n",
       "\n",
       "    .dataframe thead th {\n",
       "        text-align: right;\n",
       "    }\n",
       "</style>\n",
       "<table border=\"1\" class=\"dataframe\">\n",
       "  <thead>\n",
       "    <tr style=\"text-align: right;\">\n",
       "      <th></th>\n",
       "      <th>DISTRICT</th>\n",
       "      <th>geometry</th>\n",
       "    </tr>\n",
       "  </thead>\n",
       "  <tbody>\n",
       "    <tr>\n",
       "      <th>0</th>\n",
       "      <td>1</td>\n",
       "      <td>POLYGON ((-108.20971 36.77147, -108.20960 36.7...</td>\n",
       "    </tr>\n",
       "    <tr>\n",
       "      <th>1</th>\n",
       "      <td>10</td>\n",
       "      <td>POLYGON ((-106.68805 35.13396, -106.68788 35.1...</td>\n",
       "    </tr>\n",
       "    <tr>\n",
       "      <th>2</th>\n",
       "      <td>11</td>\n",
       "      <td>POLYGON ((-106.76027 35.05588, -106.76061 35.0...</td>\n",
       "    </tr>\n",
       "    <tr>\n",
       "      <th>3</th>\n",
       "      <td>12</td>\n",
       "      <td>POLYGON ((-106.72010 35.18397, -106.72067 35.1...</td>\n",
       "    </tr>\n",
       "    <tr>\n",
       "      <th>4</th>\n",
       "      <td>13</td>\n",
       "      <td>POLYGON ((-106.63762 35.04756, -106.63808 35.0...</td>\n",
       "    </tr>\n",
       "  </tbody>\n",
       "</table>\n",
       "</div>"
      ],
      "text/plain": [
       "  DISTRICT                                           geometry\n",
       "0        1  POLYGON ((-108.20971 36.77147, -108.20960 36.7...\n",
       "1       10  POLYGON ((-106.68805 35.13396, -106.68788 35.1...\n",
       "2       11  POLYGON ((-106.76027 35.05588, -106.76061 35.0...\n",
       "3       12  POLYGON ((-106.72010 35.18397, -106.72067 35.1...\n",
       "4       13  POLYGON ((-106.63762 35.04756, -106.63808 35.0..."
      ]
     },
     "execution_count": 6,
     "metadata": {},
     "output_type": "execute_result"
    }
   ],
   "source": [
    "print(sd.crs)\n",
    "sd.head()"
   ]
  },
  {
   "cell_type": "code",
   "execution_count": 7,
   "id": "65d76c47",
   "metadata": {},
   "outputs": [],
   "source": [
    "# House\n",
    "input_folder = Path(\"../gis/NM_House\")\n",
    "fp = input_folder / \"NM_House.shp\"\n",
    "hd = gpd.read_file(fp)"
   ]
  },
  {
   "cell_type": "code",
   "execution_count": 8,
   "id": "603debb4",
   "metadata": {},
   "outputs": [
    {
     "data": {
      "text/html": [
       "<div>\n",
       "<style scoped>\n",
       "    .dataframe tbody tr th:only-of-type {\n",
       "        vertical-align: middle;\n",
       "    }\n",
       "\n",
       "    .dataframe tbody tr th {\n",
       "        vertical-align: top;\n",
       "    }\n",
       "\n",
       "    .dataframe thead th {\n",
       "        text-align: right;\n",
       "    }\n",
       "</style>\n",
       "<table border=\"1\" class=\"dataframe\">\n",
       "  <thead>\n",
       "    <tr style=\"text-align: right;\">\n",
       "      <th></th>\n",
       "      <th>DISTRICT</th>\n",
       "      <th>geometry</th>\n",
       "    </tr>\n",
       "  </thead>\n",
       "  <tbody>\n",
       "    <tr>\n",
       "      <th>0</th>\n",
       "      <td>1</td>\n",
       "      <td>POLYGON ((-108.22320 36.75468, -108.22343 36.7...</td>\n",
       "    </tr>\n",
       "    <tr>\n",
       "      <th>1</th>\n",
       "      <td>10</td>\n",
       "      <td>POLYGON ((-106.63944 35.06980, -106.63903 35.0...</td>\n",
       "    </tr>\n",
       "    <tr>\n",
       "      <th>2</th>\n",
       "      <td>11</td>\n",
       "      <td>POLYGON ((-106.68117 35.08907, -106.68121 35.0...</td>\n",
       "    </tr>\n",
       "    <tr>\n",
       "      <th>3</th>\n",
       "      <td>12</td>\n",
       "      <td>POLYGON ((-106.72209 35.05312, -106.72204 35.0...</td>\n",
       "    </tr>\n",
       "    <tr>\n",
       "      <th>4</th>\n",
       "      <td>13</td>\n",
       "      <td>POLYGON ((-106.73786 35.07380, -106.73784 35.0...</td>\n",
       "    </tr>\n",
       "  </tbody>\n",
       "</table>\n",
       "</div>"
      ],
      "text/plain": [
       "  DISTRICT                                           geometry\n",
       "0        1  POLYGON ((-108.22320 36.75468, -108.22343 36.7...\n",
       "1       10  POLYGON ((-106.63944 35.06980, -106.63903 35.0...\n",
       "2       11  POLYGON ((-106.68117 35.08907, -106.68121 35.0...\n",
       "3       12  POLYGON ((-106.72209 35.05312, -106.72204 35.0...\n",
       "4       13  POLYGON ((-106.73786 35.07380, -106.73784 35.0..."
      ]
     },
     "execution_count": 8,
     "metadata": {},
     "output_type": "execute_result"
    }
   ],
   "source": [
    "hd.head()"
   ]
  },
  {
   "cell_type": "code",
   "execution_count": 10,
   "id": "9a0bcb74",
   "metadata": {},
   "outputs": [],
   "source": [
    "# ZTCA (Zip codes)\n",
    "input_folder = Path(\"../gis/NM_ZCTA\")\n",
    "fp = input_folder / \"tl_2010_35_zcta510.shp\"\n",
    "zd_raw = gpd.read_file(fp)"
   ]
  },
  {
   "cell_type": "code",
   "execution_count": 11,
   "id": "caae9320",
   "metadata": {},
   "outputs": [
    {
     "data": {
      "text/html": [
       "<div>\n",
       "<style scoped>\n",
       "    .dataframe tbody tr th:only-of-type {\n",
       "        vertical-align: middle;\n",
       "    }\n",
       "\n",
       "    .dataframe tbody tr th {\n",
       "        vertical-align: top;\n",
       "    }\n",
       "\n",
       "    .dataframe thead th {\n",
       "        text-align: right;\n",
       "    }\n",
       "</style>\n",
       "<table border=\"1\" class=\"dataframe\">\n",
       "  <thead>\n",
       "    <tr style=\"text-align: right;\">\n",
       "      <th></th>\n",
       "      <th>STATEFP10</th>\n",
       "      <th>ZCTA5CE10</th>\n",
       "      <th>GEOID10</th>\n",
       "      <th>CLASSFP10</th>\n",
       "      <th>MTFCC10</th>\n",
       "      <th>FUNCSTAT10</th>\n",
       "      <th>ALAND10</th>\n",
       "      <th>AWATER10</th>\n",
       "      <th>INTPTLAT10</th>\n",
       "      <th>INTPTLON10</th>\n",
       "      <th>PARTFLG10</th>\n",
       "      <th>geometry</th>\n",
       "    </tr>\n",
       "  </thead>\n",
       "  <tbody>\n",
       "    <tr>\n",
       "      <th>0</th>\n",
       "      <td>35</td>\n",
       "      <td>87108</td>\n",
       "      <td>3587108</td>\n",
       "      <td>B5</td>\n",
       "      <td>G6350</td>\n",
       "      <td>S</td>\n",
       "      <td>15224438</td>\n",
       "      <td>0</td>\n",
       "      <td>+35.0724783</td>\n",
       "      <td>-106.5783622</td>\n",
       "      <td>N</td>\n",
       "      <td>POLYGON ((-106.58628 35.05801, -106.58648 35.0...</td>\n",
       "    </tr>\n",
       "    <tr>\n",
       "      <th>1</th>\n",
       "      <td>35</td>\n",
       "      <td>87104</td>\n",
       "      <td>3587104</td>\n",
       "      <td>B5</td>\n",
       "      <td>G6350</td>\n",
       "      <td>S</td>\n",
       "      <td>11006016</td>\n",
       "      <td>913336</td>\n",
       "      <td>+35.1031834</td>\n",
       "      <td>-106.6755476</td>\n",
       "      <td>N</td>\n",
       "      <td>POLYGON ((-106.65795 35.09562, -106.65833 35.0...</td>\n",
       "    </tr>\n",
       "    <tr>\n",
       "      <th>2</th>\n",
       "      <td>35</td>\n",
       "      <td>87109</td>\n",
       "      <td>3587109</td>\n",
       "      <td>B5</td>\n",
       "      <td>G6350</td>\n",
       "      <td>S</td>\n",
       "      <td>26199125</td>\n",
       "      <td>183677</td>\n",
       "      <td>+35.1528823</td>\n",
       "      <td>-106.5755359</td>\n",
       "      <td>N</td>\n",
       "      <td>POLYGON ((-106.57266 35.12975, -106.57764 35.1...</td>\n",
       "    </tr>\n",
       "    <tr>\n",
       "      <th>3</th>\n",
       "      <td>35</td>\n",
       "      <td>87825</td>\n",
       "      <td>3587825</td>\n",
       "      <td>B5</td>\n",
       "      <td>G6350</td>\n",
       "      <td>S</td>\n",
       "      <td>6897450389</td>\n",
       "      <td>2328933</td>\n",
       "      <td>+33.8773166</td>\n",
       "      <td>-107.6562263</td>\n",
       "      <td>N</td>\n",
       "      <td>POLYGON ((-107.13956 34.30255, -107.13952 34.3...</td>\n",
       "    </tr>\n",
       "    <tr>\n",
       "      <th>4</th>\n",
       "      <td>35</td>\n",
       "      <td>87014</td>\n",
       "      <td>3587014</td>\n",
       "      <td>B5</td>\n",
       "      <td>G6350</td>\n",
       "      <td>S</td>\n",
       "      <td>572886035</td>\n",
       "      <td>772489</td>\n",
       "      <td>+35.2308135</td>\n",
       "      <td>-107.3904488</td>\n",
       "      <td>N</td>\n",
       "      <td>POLYGON ((-107.20919 35.24598, -107.20916 35.2...</td>\n",
       "    </tr>\n",
       "  </tbody>\n",
       "</table>\n",
       "</div>"
      ],
      "text/plain": [
       "  STATEFP10 ZCTA5CE10  GEOID10 CLASSFP10 MTFCC10 FUNCSTAT10     ALAND10  \\\n",
       "0        35     87108  3587108        B5   G6350          S    15224438   \n",
       "1        35     87104  3587104        B5   G6350          S    11006016   \n",
       "2        35     87109  3587109        B5   G6350          S    26199125   \n",
       "3        35     87825  3587825        B5   G6350          S  6897450389   \n",
       "4        35     87014  3587014        B5   G6350          S   572886035   \n",
       "\n",
       "   AWATER10   INTPTLAT10    INTPTLON10 PARTFLG10  \\\n",
       "0         0  +35.0724783  -106.5783622         N   \n",
       "1    913336  +35.1031834  -106.6755476         N   \n",
       "2    183677  +35.1528823  -106.5755359         N   \n",
       "3   2328933  +33.8773166  -107.6562263         N   \n",
       "4    772489  +35.2308135  -107.3904488         N   \n",
       "\n",
       "                                            geometry  \n",
       "0  POLYGON ((-106.58628 35.05801, -106.58648 35.0...  \n",
       "1  POLYGON ((-106.65795 35.09562, -106.65833 35.0...  \n",
       "2  POLYGON ((-106.57266 35.12975, -106.57764 35.1...  \n",
       "3  POLYGON ((-107.13956 34.30255, -107.13952 34.3...  \n",
       "4  POLYGON ((-107.20919 35.24598, -107.20916 35.2...  "
      ]
     },
     "execution_count": 11,
     "metadata": {},
     "output_type": "execute_result"
    }
   ],
   "source": [
    "zd_raw.head()"
   ]
  },
  {
   "cell_type": "code",
   "execution_count": 12,
   "id": "117dab39",
   "metadata": {},
   "outputs": [
    {
     "name": "stdout",
     "output_type": "stream",
     "text": [
      "epsg:4269\n"
     ]
    },
    {
     "data": {
      "text/html": [
       "<div>\n",
       "<style scoped>\n",
       "    .dataframe tbody tr th:only-of-type {\n",
       "        vertical-align: middle;\n",
       "    }\n",
       "\n",
       "    .dataframe tbody tr th {\n",
       "        vertical-align: top;\n",
       "    }\n",
       "\n",
       "    .dataframe thead th {\n",
       "        text-align: right;\n",
       "    }\n",
       "</style>\n",
       "<table border=\"1\" class=\"dataframe\">\n",
       "  <thead>\n",
       "    <tr style=\"text-align: right;\">\n",
       "      <th></th>\n",
       "      <th>ZCTA5CE10</th>\n",
       "      <th>geometry</th>\n",
       "    </tr>\n",
       "  </thead>\n",
       "  <tbody>\n",
       "    <tr>\n",
       "      <th>0</th>\n",
       "      <td>87108</td>\n",
       "      <td>POLYGON ((-106.58628 35.05801, -106.58648 35.0...</td>\n",
       "    </tr>\n",
       "    <tr>\n",
       "      <th>1</th>\n",
       "      <td>87104</td>\n",
       "      <td>POLYGON ((-106.65795 35.09562, -106.65833 35.0...</td>\n",
       "    </tr>\n",
       "    <tr>\n",
       "      <th>2</th>\n",
       "      <td>87109</td>\n",
       "      <td>POLYGON ((-106.57266 35.12975, -106.57764 35.1...</td>\n",
       "    </tr>\n",
       "    <tr>\n",
       "      <th>3</th>\n",
       "      <td>87825</td>\n",
       "      <td>POLYGON ((-107.13956 34.30255, -107.13952 34.3...</td>\n",
       "    </tr>\n",
       "    <tr>\n",
       "      <th>4</th>\n",
       "      <td>87014</td>\n",
       "      <td>POLYGON ((-107.20919 35.24598, -107.20916 35.2...</td>\n",
       "    </tr>\n",
       "  </tbody>\n",
       "</table>\n",
       "</div>"
      ],
      "text/plain": [
       "  ZCTA5CE10                                           geometry\n",
       "0     87108  POLYGON ((-106.58628 35.05801, -106.58648 35.0...\n",
       "1     87104  POLYGON ((-106.65795 35.09562, -106.65833 35.0...\n",
       "2     87109  POLYGON ((-106.57266 35.12975, -106.57764 35.1...\n",
       "3     87825  POLYGON ((-107.13956 34.30255, -107.13952 34.3...\n",
       "4     87014  POLYGON ((-107.20919 35.24598, -107.20916 35.2..."
      ]
     },
     "execution_count": 12,
     "metadata": {},
     "output_type": "execute_result"
    }
   ],
   "source": [
    "# get only select columns\n",
    "zd = zd_raw[['ZCTA5CE10', 'geometry']]\n",
    "print(zd.crs)\n",
    "zd.head()"
   ]
  },
  {
   "cell_type": "markdown",
   "id": "d56c26b9",
   "metadata": {},
   "source": [
    "## Join ZCTA and Districts"
   ]
  },
  {
   "cell_type": "code",
   "execution_count": 13,
   "id": "66b52092",
   "metadata": {},
   "outputs": [
    {
     "data": {
      "text/html": [
       "<div>\n",
       "<style scoped>\n",
       "    .dataframe tbody tr th:only-of-type {\n",
       "        vertical-align: middle;\n",
       "    }\n",
       "\n",
       "    .dataframe tbody tr th {\n",
       "        vertical-align: top;\n",
       "    }\n",
       "\n",
       "    .dataframe thead th {\n",
       "        text-align: right;\n",
       "    }\n",
       "</style>\n",
       "<table border=\"1\" class=\"dataframe\">\n",
       "  <thead>\n",
       "    <tr style=\"text-align: right;\">\n",
       "      <th></th>\n",
       "      <th>senate_district</th>\n",
       "      <th>ZCTA</th>\n",
       "    </tr>\n",
       "  </thead>\n",
       "  <tbody>\n",
       "    <tr>\n",
       "      <th>0</th>\n",
       "      <td>1</td>\n",
       "      <td>87413</td>\n",
       "    </tr>\n",
       "    <tr>\n",
       "      <th>0</th>\n",
       "      <td>1</td>\n",
       "      <td>87499</td>\n",
       "    </tr>\n",
       "    <tr>\n",
       "      <th>0</th>\n",
       "      <td>1</td>\n",
       "      <td>87416</td>\n",
       "    </tr>\n",
       "    <tr>\n",
       "      <th>0</th>\n",
       "      <td>1</td>\n",
       "      <td>87421</td>\n",
       "    </tr>\n",
       "    <tr>\n",
       "      <th>0</th>\n",
       "      <td>1</td>\n",
       "      <td>87417</td>\n",
       "    </tr>\n",
       "  </tbody>\n",
       "</table>\n",
       "</div>"
      ],
      "text/plain": [
       "  senate_district   ZCTA\n",
       "0               1  87413\n",
       "0               1  87499\n",
       "0               1  87416\n",
       "0               1  87421\n",
       "0               1  87417"
      ]
     },
     "execution_count": 13,
     "metadata": {},
     "output_type": "execute_result"
    }
   ],
   "source": [
    "# join senate with zcta, senate on left\n",
    "sx = gpd.sjoin(sd, zd, how = 'left', predicate = 'intersects')[[\"DISTRICT\", \"ZCTA5CE10\"]]\n",
    "sx.rename(columns = {'DISTRICT':'senate_district', \n",
    "                     'ZCTA5CE10':'ZCTA'}, inplace = True)\n",
    "sx.head()"
   ]
  },
  {
   "cell_type": "code",
   "execution_count": 14,
   "id": "ce52be9a",
   "metadata": {},
   "outputs": [
    {
     "data": {
      "text/html": [
       "<div>\n",
       "<style scoped>\n",
       "    .dataframe tbody tr th:only-of-type {\n",
       "        vertical-align: middle;\n",
       "    }\n",
       "\n",
       "    .dataframe tbody tr th {\n",
       "        vertical-align: top;\n",
       "    }\n",
       "\n",
       "    .dataframe thead th {\n",
       "        text-align: right;\n",
       "    }\n",
       "</style>\n",
       "<table border=\"1\" class=\"dataframe\">\n",
       "  <thead>\n",
       "    <tr style=\"text-align: right;\">\n",
       "      <th></th>\n",
       "      <th>house_district</th>\n",
       "      <th>ZCTA</th>\n",
       "    </tr>\n",
       "  </thead>\n",
       "  <tbody>\n",
       "    <tr>\n",
       "      <th>0</th>\n",
       "      <td>1</td>\n",
       "      <td>87401</td>\n",
       "    </tr>\n",
       "    <tr>\n",
       "      <th>0</th>\n",
       "      <td>1</td>\n",
       "      <td>87402</td>\n",
       "    </tr>\n",
       "    <tr>\n",
       "      <th>0</th>\n",
       "      <td>1</td>\n",
       "      <td>87418</td>\n",
       "    </tr>\n",
       "    <tr>\n",
       "      <th>0</th>\n",
       "      <td>1</td>\n",
       "      <td>87415</td>\n",
       "    </tr>\n",
       "    <tr>\n",
       "      <th>0</th>\n",
       "      <td>1</td>\n",
       "      <td>87410</td>\n",
       "    </tr>\n",
       "  </tbody>\n",
       "</table>\n",
       "</div>"
      ],
      "text/plain": [
       "  house_district   ZCTA\n",
       "0              1  87401\n",
       "0              1  87402\n",
       "0              1  87418\n",
       "0              1  87415\n",
       "0              1  87410"
      ]
     },
     "execution_count": 14,
     "metadata": {},
     "output_type": "execute_result"
    }
   ],
   "source": [
    "# join house with zcta\n",
    "hx = gpd.sjoin(hd, zd, how = 'left', predicate = 'intersects')[[\"DISTRICT\", \"ZCTA5CE10\"]]\n",
    "hx.rename(columns = {'DISTRICT':'house_district', \n",
    "                     'ZCTA5CE10':'ZCTA'}, inplace = True)\n",
    "hx.head()"
   ]
  },
  {
   "cell_type": "code",
   "execution_count": 15,
   "id": "a8c00eb0",
   "metadata": {},
   "outputs": [
    {
     "data": {
      "text/html": [
       "<div>\n",
       "<style scoped>\n",
       "    .dataframe tbody tr th:only-of-type {\n",
       "        vertical-align: middle;\n",
       "    }\n",
       "\n",
       "    .dataframe tbody tr th {\n",
       "        vertical-align: top;\n",
       "    }\n",
       "\n",
       "    .dataframe thead th {\n",
       "        text-align: right;\n",
       "    }\n",
       "</style>\n",
       "<table border=\"1\" class=\"dataframe\">\n",
       "  <thead>\n",
       "    <tr style=\"text-align: right;\">\n",
       "      <th></th>\n",
       "      <th>ZCTA</th>\n",
       "      <th>house_district</th>\n",
       "      <th>senate_district</th>\n",
       "    </tr>\n",
       "  </thead>\n",
       "  <tbody>\n",
       "    <tr>\n",
       "      <th>0</th>\n",
       "      <td>87108</td>\n",
       "      <td>10</td>\n",
       "      <td>16</td>\n",
       "    </tr>\n",
       "    <tr>\n",
       "      <th>0</th>\n",
       "      <td>87108</td>\n",
       "      <td>10</td>\n",
       "      <td>17</td>\n",
       "    </tr>\n",
       "    <tr>\n",
       "      <th>0</th>\n",
       "      <td>87108</td>\n",
       "      <td>10</td>\n",
       "      <td>18</td>\n",
       "    </tr>\n",
       "    <tr>\n",
       "      <th>0</th>\n",
       "      <td>87108</td>\n",
       "      <td>19</td>\n",
       "      <td>16</td>\n",
       "    </tr>\n",
       "    <tr>\n",
       "      <th>0</th>\n",
       "      <td>87108</td>\n",
       "      <td>19</td>\n",
       "      <td>17</td>\n",
       "    </tr>\n",
       "  </tbody>\n",
       "</table>\n",
       "</div>"
      ],
      "text/plain": [
       "    ZCTA house_district senate_district\n",
       "0  87108             10              16\n",
       "0  87108             10              17\n",
       "0  87108             10              18\n",
       "0  87108             19              16\n",
       "0  87108             19              17"
      ]
     },
     "execution_count": 15,
     "metadata": {},
     "output_type": "execute_result"
    }
   ],
   "source": [
    "# join zcta with house and senate\n",
    "zx1 = gpd.sjoin(zd, hd, how = 'left', predicate = 'intersects')[['ZCTA5CE10','DISTRICT', 'geometry']]\n",
    "zx1.rename(columns = {'ZCTA5CE10':'ZCTA', \n",
    "                      'DISTRICT':'house_district'}, inplace = True)\n",
    "zx2 = gpd.sjoin(zx1, sd, how = 'left', predicate = 'intersects')[['ZCTA', 'house_district', 'DISTRICT']]\n",
    "zx2.rename(columns = {'DISTRICT':'senate_district'}, inplace = True)\n",
    "\n",
    "zx2.head()"
   ]
  },
  {
   "cell_type": "code",
   "execution_count": 16,
   "id": "60264dcb",
   "metadata": {},
   "outputs": [],
   "source": [
    "# output \n",
    "sx.to_csv('../crosswalks/senate-zcta-crosswalk.csv', index = False)\n",
    "hx.to_csv('../crosswalks/house-zcta-crosswalk.csv', index = False)"
   ]
  },
  {
   "cell_type": "code",
   "execution_count": 27,
   "id": "8aaf1c62",
   "metadata": {},
   "outputs": [],
   "source": [
    "# string concat\n",
    "(\n",
    "sx.\n",
    "    sort_values(['ZCTA']).\n",
    "    groupby(['senate_district']).agg(', '.join).reset_index().\n",
    "    to_csv('../crosswalks/senate-zcta-crosswalk-comma-sep.csv', index = False)\n",
    ")\n",
    "(\n",
    "hx.\n",
    "    sort_values(['ZCTA']).\n",
    "    groupby(['house_district']).agg(', '.join).reset_index().\n",
    "    to_csv('../crosswalks/house-zcta-crosswalk-comma-sep.csv', index = False)\n",
    ")"
   ]
  },
  {
   "cell_type": "markdown",
   "id": "d954b61f",
   "metadata": {},
   "source": [
    "## Data Exploration"
   ]
  },
  {
   "cell_type": "code",
   "execution_count": null,
   "id": "e54d72a8",
   "metadata": {},
   "outputs": [],
   "source": [
    "# count zips per senate district\n",
    "sx.groupby(['DISTRICT']).size().reset_index(name='COUNT').sort_values(by='COUNT', ascending = False)"
   ]
  },
  {
   "cell_type": "code",
   "execution_count": null,
   "id": "097895d8",
   "metadata": {},
   "outputs": [],
   "source": [
    "# definitely a many to many relationship here\n",
    "zx.groupby(['ZCTA5CE10']).size().reset_index(name='COUNT').sort_values(by='COUNT', ascending = False)"
   ]
  },
  {
   "cell_type": "code",
   "execution_count": null,
   "id": "e4277fc4",
   "metadata": {},
   "outputs": [],
   "source": [
    "# South Valley, Albuquerque has 8 districts!\n",
    "zx.query(\"ZCTA5CE10 == '87105'\")"
   ]
  }
 ],
 "metadata": {
  "kernelspec": {
   "display_name": "env",
   "language": "python",
   "name": "env"
  },
  "language_info": {
   "codemirror_mode": {
    "name": "ipython",
    "version": 3
   },
   "file_extension": ".py",
   "mimetype": "text/x-python",
   "name": "python",
   "nbconvert_exporter": "python",
   "pygments_lexer": "ipython3",
   "version": "3.9.13"
  }
 },
 "nbformat": 4,
 "nbformat_minor": 5
}
