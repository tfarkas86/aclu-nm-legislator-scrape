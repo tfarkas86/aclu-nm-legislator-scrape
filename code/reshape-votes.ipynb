{
 "cells": [
  {
   "cell_type": "code",
   "execution_count": null,
   "id": "f807f485-45ea-4e61-9849-6413a83503f4",
   "metadata": {},
   "outputs": [],
   "source": [
    "import pandas as pd\n",
    "import os\n",
    "import numpy as np\n",
    "import re"
   ]
  },
  {
   "cell_type": "code",
   "execution_count": null,
   "id": "27734345-bd0f-49c4-850d-43a67a68de35",
   "metadata": {},
   "outputs": [],
   "source": [
    "vote_files = os.listdir('../repro-votes-csvs/')\n",
    "df = pd.DataFrame()\n",
    "for vote_file in vote_files:\n",
    "    \n",
    "    print(vote_file)\n",
    "    vote_df = pd.read_csv(f'../repro-votes-csvs/{vote_file}')\n",
    "    options = np.array(vote_df.columns[1:].to_list())\n",
    "    \n",
    "    file = vote_file[:-4]\n",
    "    year = '20' + vote_file[0:2]\n",
    "    session = vote_file[vote_file.find('-') + 1:vote_file.find('_')]\n",
    "    vote_id = vote_file[vote_file.find('_') + 1:vote_file.find('.')]\n",
    "\n",
    "    number = re.search('[0-9]+', vote_id)[0]\n",
    "    vote_type = vote_id[0:vote_id.find(number)]\n",
    "    vote_chamber = vote_id[(vote_id.find(number) + len(number)):(vote_id.find(number) + len(number) + 1)]\n",
    "    if vote_chamber == 'H':\n",
    "        vote_chamber = 'House'\n",
    "    else: \n",
    "        vote_chamber = 'Senate'\n",
    "    names = []\n",
    "    votes = []    \n",
    "    \n",
    "    for row in range(0, vote_df.shape[0]):\n",
    "        \n",
    "        row_list = vote_df.iloc[row, :].to_list()\n",
    "        print(row_list)\n",
    "        name = row_list.pop(0)\n",
    "        if name[0:5] == 'TOTAL':\n",
    "            continue\n",
    "        ind = np.array([x in ['X', 'X*'] for x in row_list])\n",
    "        vote = options[ind][0]\n",
    "        votes.append(vote)\n",
    "        names.append(name)\n",
    "\n",
    "    vote_dict = {'file': file, 'year': year, 'session': session, 'legislation_type': vote_type, \n",
    "                 'legislation_number': number, 'voting_chamber': vote_chamber,\n",
    "                 'legislator': names, 'vote': votes}\n",
    "    df = pd.concat([df, pd.DataFrame(vote_dict)], axis = 0)\n",
    "\n",
    "#df.to_csv('../repro-votes-reshaped.csv', index = False)\n",
    "    "
   ]
  },
  {
   "cell_type": "code",
   "execution_count": 228,
   "id": "d1aebffe-d6f0-464e-841b-2aa482f7d718",
   "metadata": {},
   "outputs": [],
   "source": [
    "old_votes = pd.read_excel('../repro-votes.xlsx').dropna(axis = 0, how = 'all')\n",
    "old_votes['Year'] = old_votes['Year'].astype('int')\n",
    "old_votes['Legislation ID'] = old_votes['Legislation ID'].astype('int')\n",
    "old_votes.drop_duplicates(subset = ['Year', 'Session', 'Legislation Type ', 'Legislation ID', 'Legislation Title'], inplace = True)\n",
    "old_votes = old_votes.iloc[:, 0:5]\n",
    "old_votes['Session'] = old_votes['Session'].str[5:]\n",
    "old_votes.columns = ['year', 'session', 'legislation_type', 'legislation_number',\n",
    "       'legislation_title']\n",
    "#old_votes"
   ]
  },
  {
   "cell_type": "code",
   "execution_count": 248,
   "id": "f306168a-6b82-4914-97d7-2cc33693acbe",
   "metadata": {},
   "outputs": [],
   "source": [
    "df = pd.read_csv('../repro-votes-reshaped.csv')\n",
    "df['year'] = df['year'].astype('int')\n",
    "df['legislation_number'] = df['legislation_number'].astype('int')\n",
    "df_joined = pd.merge(left = df, right = old_votes, how = 'left', \n",
    "                     on = ['year', 'session', 'legislation_type', 'legislation_number'])\n",
    "df_joined['legislator'] = df_joined['legislator'].str.title()\n",
    "df_joined['legislation_title'] = df_joined['legislation_title'].str.title()\n",
    "df_joined.sort_values(['year', 'session', 'legislation_type', 'legislation_number', 'voting_chamber', 'legislator'],\n",
    "                      ascending = [False, True, True, True, True, True], inplace = True)\n",
    "df_joined = df_joined[['year', 'session', 'legislation_type', 'legislation_number', 'legislation_title', 'voting_chamber', 'legislator', 'vote']]\n",
    "df_joined.columns = ['Year', 'Session', 'Legislation Type', 'Legislation Number', 'Legislation Title', 'Voting Chamber', 'Legislator', 'Vote']\n",
    "\n",
    "df_joined.to_excel('../repro-votes-rehaped-titled.xlsx', index = False)"
   ]
  }
 ],
 "metadata": {
  "kernelspec": {
   "display_name": "env",
   "language": "python",
   "name": "env"
  },
  "language_info": {
   "codemirror_mode": {
    "name": "ipython",
    "version": 3
   },
   "file_extension": ".py",
   "mimetype": "text/x-python",
   "name": "python",
   "nbconvert_exporter": "python",
   "pygments_lexer": "ipython3",
   "version": "3.10.6"
  }
 },
 "nbformat": 4,
 "nbformat_minor": 5
}
