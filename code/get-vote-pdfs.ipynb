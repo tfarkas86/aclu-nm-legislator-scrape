{
 "cells": [
  {
   "cell_type": "code",
   "execution_count": 64,
   "id": "97432f71",
   "metadata": {},
   "outputs": [],
   "source": [
    "import requests \n",
    "from bs4 import BeautifulSoup\n",
    "import pandas as pd\n",
    "from os.path import basename\n",
    "import re\n",
    "import os"
   ]
  },
  {
   "cell_type": "code",
   "execution_count": 14,
   "id": "4f8c8958",
   "metadata": {},
   "outputs": [],
   "source": [
    "url = f'https://nmlegis.gov/Sessions'\n",
    "r = requests.get(url)\n",
    "soup = BeautifulSoup(r.content, 'html5lib')\n",
    "session_list = soup.find_all('a', href=re.compile(r'Sessions'))"
   ]
  },
  {
   "cell_type": "code",
   "execution_count": 15,
   "id": "c4b1ebac",
   "metadata": {},
   "outputs": [],
   "source": [
    "# get legislative sessions\n",
    "sessions = []\n",
    "for link in session_list: \n",
    "    sessions.append(link.text)"
   ]
  },
  {
   "cell_type": "code",
   "execution_count": 71,
   "id": "62626183",
   "metadata": {},
   "outputs": [
    {
     "name": "stdout",
     "output_type": "stream",
     "text": [
      "HB0001HVOTE.PDF\n",
      "HB0001SVOTE.PDF\n",
      "HB0002HVOTE.PDF\n",
      "HB0002SVOTE.PDF\n",
      "SB0001HVOTE.PDF\n",
      "SB0001SVOTE.PDF\n"
     ]
    }
   ],
   "source": [
    "for session in sessions[42:43]: \n",
    "#for session in sessions[41:43]:\n",
    "    _session = session.replace(' ', '-')\n",
    "    if not os.dir.exists(f'../votes/{_session}'):\n",
    "        os.mkdir(f'../votes/{_session}')\n",
    "    session_url = f'https://nmlegis.gov/Sessions/{session}/votes'\n",
    "    r_session = requests.get(session_url)\n",
    "    session_soup = BeautifulSoup(r_session.content, 'html5lib')\n",
    "    vote_comps = session_soup.find_all('a', href=re.compile(r'votes'))\n",
    "    #print(vote_comps)\n",
    "    for vote in vote_comps:\n",
    "        vote_file = vote['href']\n",
    "        vote_text = vote.text\n",
    "        print(vote_text)\n",
    "        #if vote_text[0:2] not in ['HB', 'SB']: # bills only\n",
    "        #    continue\n",
    "        pdf_path = f'https://nmlegis.gov{vote_file}'\n",
    "        with open(f'../votes/{_session}/{_session}_{vote_text}', 'wb') as f:\n",
    "            f.write(requests.get(pdf_path).content) "
   ]
  },
  {
   "cell_type": "code",
   "execution_count": 57,
   "id": "7d3ceb74",
   "metadata": {},
   "outputs": [
    {
     "data": {
      "text/plain": [
       "True"
      ]
     },
     "execution_count": 57,
     "metadata": {},
     "output_type": "execute_result"
    }
   ],
   "source": [
    "\"HB\" in [\"HB\"]"
   ]
  }
 ],
 "metadata": {
  "kernelspec": {
   "display_name": "env",
   "language": "python",
   "name": "env"
  },
  "language_info": {
   "codemirror_mode": {
    "name": "ipython",
    "version": 3
   },
   "file_extension": ".py",
   "mimetype": "text/x-python",
   "name": "python",
   "nbconvert_exporter": "python",
   "pygments_lexer": "ipython3",
   "version": "3.10.6"
  }
 },
 "nbformat": 4,
 "nbformat_minor": 5
}
