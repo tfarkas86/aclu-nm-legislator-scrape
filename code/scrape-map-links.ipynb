{
 "cells": [
  {
   "cell_type": "code",
   "execution_count": null,
   "id": "b6edaf17",
   "metadata": {},
   "outputs": [],
   "source": [
    "from bs4 import BeautifulSoup\n",
    "import requests\n",
    "import numpy as np\n",
    "import re\n",
    "import pandas as pd"
   ]
  },
  {
   "cell_type": "code",
   "execution_count": null,
   "id": "ac6a3b0d",
   "metadata": {},
   "outputs": [],
   "source": [
    "# get Senate map Soup opbject\n",
    "on_lower = 'house'\n",
    "URL = f'https://www.sos.state.nm.us/voting-and-elections/data-and-maps/{on_lower}-district-maps/'\n",
    "r = requests.get(URL)\n",
    "soup = BeautifulSoup(r.content, 'html5lib')"
   ]
  },
  {
   "cell_type": "code",
   "execution_count": null,
   "id": "9e01a939",
   "metadata": {},
   "outputs": [],
   "source": [
    "tables = soup.find('table')\n",
    "dict_list = []\n",
    "for i in tables.tbody.findAll('tr'):\n",
    "    dis_text = i.find_next('td').text\n",
    "    lnk_text = i.find_all('td')[1].find_next('a')['href']\n",
    "    if (re.search('[0-9]+', dis_text) is not None): \n",
    "        dict_list.append({f'{on_lower}_district':re.findall('[0-9]+', dis_text)[0], \n",
    "                       'Map Link':lnk_text})\n",
    "df_link = pd.DataFrame(dict_list)\n",
    "df_link.head()\n",
    "#df_link.dtypes"
   ]
  },
  {
   "cell_type": "code",
   "execution_count": null,
   "id": "083c4ef7",
   "metadata": {},
   "outputs": [],
   "source": [
    "# join with legislator file\n",
    "ld = pd.read_csv(f'./legislator-info/nm_{on_lower}_legislator_info.csv').drop(['Map Link'], axis = 1)\n",
    "print(ld.head())\n",
    "print(ld.dtypes)\n",
    "#ld['District'] = ld['District'].astype('str')\n",
    "df_link[f'{on_lower}_district'] = df_link[f'{on_lower}_district'].astype('int64')\n",
    "merged_df = ld.merge(df_link, how = 'left', left_on = 'District', right_on = f'{on_lower}_district').drop([f'{on_lower}_district'], axis = 1)"
   ]
  },
  {
   "cell_type": "code",
   "execution_count": null,
   "id": "ce3de521",
   "metadata": {},
   "outputs": [],
   "source": [
    "merged_df.to_excel('legislator-info/nm-house-legislator-info.xlsx')"
   ]
  }
 ],
 "metadata": {
  "kernelspec": {
   "display_name": "env",
   "language": "python",
   "name": "env"
  },
  "language_info": {
   "codemirror_mode": {
    "name": "ipython",
    "version": 3
   },
   "file_extension": ".py",
   "mimetype": "text/x-python",
   "name": "python",
   "nbconvert_exporter": "python",
   "pygments_lexer": "ipython3",
   "version": "3.9.13"
  }
 },
 "nbformat": 4,
 "nbformat_minor": 5
}
