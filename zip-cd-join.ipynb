{
 "cells": [
  {
   "cell_type": "code",
   "execution_count": null,
   "id": "59995f9e",
   "metadata": {},
   "outputs": [],
   "source": [
    "#USE_PYGEOS=1\n",
    "import geopandas as gpd\n",
    "from pathlib import Path\n",
    "import pandas as pd\n",
    "#import pygeos\n",
    "#gpd.options.use_pygeos = True"
   ]
  },
  {
   "cell_type": "markdown",
   "id": "f8f01a7c",
   "metadata": {},
   "source": [
    "## Input Data Shapefiles"
   ]
  },
  {
   "cell_type": "code",
   "execution_count": null,
   "id": "eeb4ee06",
   "metadata": {},
   "outputs": [],
   "source": [
    "# Senate\n",
    "input_folder = Path(\"./gis/NM_Senate\")\n",
    "fp = input_folder / \"NM_Senate.shp\"\n",
    "sd = gpd.read_file(fp)"
   ]
  },
  {
   "cell_type": "code",
   "execution_count": null,
   "id": "82e26cba",
   "metadata": {},
   "outputs": [],
   "source": [
    "print(sd.crs)\n",
    "sd.head()"
   ]
  },
  {
   "cell_type": "code",
   "execution_count": null,
   "id": "dcc59300",
   "metadata": {},
   "outputs": [],
   "source": [
    "# House\n",
    "input_folder = Path(\"./gis/NM_House\")\n",
    "fp = input_folder / \"NM_House.shp\"\n",
    "hd = gpd.read_file(fp)"
   ]
  },
  {
   "cell_type": "code",
   "execution_count": null,
   "id": "18c81e81",
   "metadata": {},
   "outputs": [],
   "source": [
    "hd.head()"
   ]
  },
  {
   "cell_type": "code",
   "execution_count": null,
   "id": "9a0bcb74",
   "metadata": {},
   "outputs": [],
   "source": [
    "# ZTCA (Zip codes)\n",
    "input_folder = Path(\"./gis/NM_ZCTA\")\n",
    "fp = input_folder / \"tl_2010_35_zcta510.shp\"\n",
    "zd_raw = gpd.read_file(fp)"
   ]
  },
  {
   "cell_type": "code",
   "execution_count": null,
   "id": "caae9320",
   "metadata": {},
   "outputs": [],
   "source": [
    "zd_raw.head()"
   ]
  },
  {
   "cell_type": "code",
   "execution_count": null,
   "id": "117dab39",
   "metadata": {},
   "outputs": [],
   "source": [
    "# get only select columns\n",
    "zd = zd_raw[['ZCTA5CE10', 'geometry']]\n",
    "print(zd.crs)\n",
    "zd.head()"
   ]
  },
  {
   "cell_type": "markdown",
   "id": "c3c97668",
   "metadata": {},
   "source": [
    "## Join ZCTA and Districts"
   ]
  },
  {
   "cell_type": "code",
   "execution_count": null,
   "id": "c227caae",
   "metadata": {},
   "outputs": [],
   "source": [
    "# join senate with zcta, senate on left\n",
    "sx = gpd.sjoin(sd, zd, how = 'left', predicate = 'intersects')[[\"DISTRICT\", \"ZCTA5CE10\"]]\n",
    "sx.rename(columns = {'DISTRICT':'senate_district', \n",
    "                     'ZCTA5CE10':'ZCTA'}, inplace = True)\n",
    "sx.head()"
   ]
  },
  {
   "cell_type": "code",
   "execution_count": null,
   "id": "f1611b47",
   "metadata": {},
   "outputs": [],
   "source": [
    "# join house with zcta\n",
    "hx = gpd.sjoin(hd, zd, how = 'left', predicate = 'intersects')[[\"DISTRICT\", \"ZCTA5CE10\"]]\n",
    "hx.rename(columns = {'DISTRICT':'house_district', \n",
    "                     'ZCTA5CE10':'ZCTA'}, inplace = True)\n",
    "hx.head()"
   ]
  },
  {
   "cell_type": "code",
   "execution_count": 56,
   "id": "8a9c6fb7",
   "metadata": {},
   "outputs": [
    {
     "data": {
      "text/html": [
       "<div>\n",
       "<style scoped>\n",
       "    .dataframe tbody tr th:only-of-type {\n",
       "        vertical-align: middle;\n",
       "    }\n",
       "\n",
       "    .dataframe tbody tr th {\n",
       "        vertical-align: top;\n",
       "    }\n",
       "\n",
       "    .dataframe thead th {\n",
       "        text-align: right;\n",
       "    }\n",
       "</style>\n",
       "<table border=\"1\" class=\"dataframe\">\n",
       "  <thead>\n",
       "    <tr style=\"text-align: right;\">\n",
       "      <th></th>\n",
       "      <th>ZCTA</th>\n",
       "      <th>house_district</th>\n",
       "      <th>senate_district</th>\n",
       "    </tr>\n",
       "  </thead>\n",
       "  <tbody>\n",
       "    <tr>\n",
       "      <th>0</th>\n",
       "      <td>87108</td>\n",
       "      <td>10</td>\n",
       "      <td>16</td>\n",
       "    </tr>\n",
       "    <tr>\n",
       "      <th>0</th>\n",
       "      <td>87108</td>\n",
       "      <td>10</td>\n",
       "      <td>17</td>\n",
       "    </tr>\n",
       "    <tr>\n",
       "      <th>0</th>\n",
       "      <td>87108</td>\n",
       "      <td>10</td>\n",
       "      <td>18</td>\n",
       "    </tr>\n",
       "    <tr>\n",
       "      <th>0</th>\n",
       "      <td>87108</td>\n",
       "      <td>19</td>\n",
       "      <td>16</td>\n",
       "    </tr>\n",
       "    <tr>\n",
       "      <th>0</th>\n",
       "      <td>87108</td>\n",
       "      <td>19</td>\n",
       "      <td>17</td>\n",
       "    </tr>\n",
       "  </tbody>\n",
       "</table>\n",
       "</div>"
      ],
      "text/plain": [
       "    ZCTA house_district senate_district\n",
       "0  87108             10              16\n",
       "0  87108             10              17\n",
       "0  87108             10              18\n",
       "0  87108             19              16\n",
       "0  87108             19              17"
      ]
     },
     "execution_count": 56,
     "metadata": {},
     "output_type": "execute_result"
    }
   ],
   "source": [
    "# join zcta with house and senate\n",
    "zx1 = gpd.sjoin(zd, hd, how = 'left', predicate = 'intersects')[['ZCTA5CE10','DISTRICT', 'geometry']]\n",
    "zx1.rename(columns = {'ZCTA5CE10':'ZCTA', \n",
    "                      'DISTRICT':'house_district'}, inplace = True)\n",
    "zx2 = gpd.sjoin(zx1, sd, how = 'left', predicate = 'intersects')[['ZCTA', 'house_district', 'DISTRICT']]\n",
    "zx2.rename(columns = {'DISTRICT':'senate_district'}, inplace = True)\n",
    "\n",
    "zx2.head()"
   ]
  },
  {
   "cell_type": "code",
   "execution_count": null,
   "id": "72b16ee2",
   "metadata": {},
   "outputs": [],
   "source": [
    "# output \n",
    "sx.to_csv('crosswalks/senate-zcta-crosswalk.csv', index = False)\n",
    "hx.to_csv('crosswalks/house-zcta-crosswalk.csv', index = False)"
   ]
  },
  {
   "cell_type": "markdown",
   "id": "407d48a7",
   "metadata": {},
   "source": [
    "## Data Exploration"
   ]
  },
  {
   "cell_type": "code",
   "execution_count": null,
   "id": "08be47c7",
   "metadata": {},
   "outputs": [],
   "source": [
    "# count zips per senate district\n",
    "sx.groupby(['DISTRICT']).size().reset_index(name='COUNT').sort_values(by='COUNT', ascending = False)"
   ]
  },
  {
   "cell_type": "code",
   "execution_count": null,
   "id": "755cb55d",
   "metadata": {},
   "outputs": [],
   "source": [
    "# definitely a many to many relationship here\n",
    "zx.groupby(['ZCTA5CE10']).size().reset_index(name='COUNT').sort_values(by='COUNT', ascending = False)"
   ]
  },
  {
   "cell_type": "code",
   "execution_count": null,
   "id": "4210a883",
   "metadata": {},
   "outputs": [],
   "source": [
    "# South Valley, Albuquerque has 8 districts!\n",
    "zx.query(\"ZCTA5CE10 == '87105'\")"
   ]
  }
 ],
 "metadata": {
  "kernelspec": {
   "display_name": "env",
   "language": "python",
   "name": "env"
  },
  "language_info": {
   "codemirror_mode": {
    "name": "ipython",
    "version": 3
   },
   "file_extension": ".py",
   "mimetype": "text/x-python",
   "name": "python",
   "nbconvert_exporter": "python",
   "pygments_lexer": "ipython3",
   "version": "3.9.13"
  }
 },
 "nbformat": 4,
 "nbformat_minor": 5
}
